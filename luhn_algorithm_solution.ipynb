{
 "cells": [
  {
   "cell_type": "code",
   "execution_count": 1,
   "metadata": {},
   "outputs": [],
   "source": [
    "def digits_of(n):\n",
    "    return [int(d) for d in str(n)]"
   ]
  },
  {
   "cell_type": "code",
   "execution_count": 2,
   "metadata": {},
   "outputs": [],
   "source": [
    "def luhn_checksum(card_number):\n",
    "    digits = digits_of(card_number)\n",
    "    odd_digits = digits[-1::-2] #This takes the last digit and works it way backwards\n",
    "    even_digits = digits[-2::-2] # This takes the second to last digit and works it way backwards\n",
    "    checksum = 0\n",
    "    checksum += sum(odd_digits)\n",
    "    for d in even_digits:\n",
    "        checksum += sum(digits_of(d*2))\n",
    "    return checksum % 10"
   ]
  },
  {
   "cell_type": "code",
   "execution_count": 3,
   "metadata": {},
   "outputs": [],
   "source": [
    "def is_luhn_valid(card_number):\n",
    "    return luhn_checksum(card_number) == 0"
   ]
  },
  {
   "cell_type": "code",
   "execution_count": 4,
   "metadata": {},
   "outputs": [
    {
     "name": "stdout",
     "output_type": "stream",
     "text": [
      "1234567890123456\n",
      "4\n",
      "False\n"
     ]
    }
   ],
   "source": [
    "example = 1234567890123456\n",
    "print(example)\n",
    "print(luhn_checksum(example))\n",
    "print(is_luhn_valid(example))"
   ]
  },
  {
   "cell_type": "code",
   "execution_count": 5,
   "metadata": {},
   "outputs": [
    {
     "name": "stdout",
     "output_type": "stream",
     "text": [
      "1234567890123452\n",
      "0\n",
      "True\n"
     ]
    }
   ],
   "source": [
    "example = 1234567890123452\n",
    "print(example)\n",
    "print(luhn_checksum(example))\n",
    "print(is_luhn_valid(example))"
   ]
  },
  {
   "cell_type": "code",
   "execution_count": 6,
   "metadata": {},
   "outputs": [],
   "source": [
    "def units_loop(start, end):\n",
    "    count = 0\n",
    "    for num in range(start, end+1):\n",
    "        if is_luhn_valid(num) is True:\n",
    "            count += 1\n",
    "    return count/(len(range(start,end+1)))"
   ]
  },
  {
   "cell_type": "code",
   "execution_count": 7,
   "metadata": {},
   "outputs": [
    {
     "data": {
      "text/plain": [
       "0.1"
      ]
     },
     "execution_count": 7,
     "metadata": {},
     "output_type": "execute_result"
    }
   ],
   "source": [
    "start = 1000000000000000\n",
    "end   = 1000000000999999\n",
    "units_loop(start, end)"
   ]
  },
  {
   "cell_type": "code",
   "execution_count": null,
   "metadata": {},
   "outputs": [],
   "source": []
  }
 ],
 "metadata": {
  "kernelspec": {
   "display_name": "Python 3",
   "language": "python",
   "name": "python3"
  },
  "language_info": {
   "codemirror_mode": {
    "name": "ipython",
    "version": 3
   },
   "file_extension": ".py",
   "mimetype": "text/x-python",
   "name": "python",
   "nbconvert_exporter": "python",
   "pygments_lexer": "ipython3",
   "version": "3.6.6"
  }
 },
 "nbformat": 4,
 "nbformat_minor": 2
}
